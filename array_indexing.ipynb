{
 "cells": [
  {
   "cell_type": "code",
   "execution_count": 1,
   "id": "d7367542",
   "metadata": {},
   "outputs": [],
   "source": [
    "import numpy as np"
   ]
  },
  {
   "cell_type": "code",
   "execution_count": 2,
   "id": "a8307d28",
   "metadata": {},
   "outputs": [],
   "source": [
    "arr=np.arange(0,11)"
   ]
  },
  {
   "cell_type": "code",
   "execution_count": 3,
   "id": "cc70dd8e",
   "metadata": {},
   "outputs": [
    {
     "data": {
      "text/plain": [
       "array([ 0,  1,  2,  3,  4,  5,  6,  7,  8,  9, 10])"
      ]
     },
     "execution_count": 3,
     "metadata": {},
     "output_type": "execute_result"
    }
   ],
   "source": [
    "arr"
   ]
  },
  {
   "cell_type": "code",
   "execution_count": 4,
   "id": "593b301b",
   "metadata": {},
   "outputs": [
    {
     "data": {
      "text/plain": [
       "array([0, 1, 2, 3, 4, 5])"
      ]
     },
     "execution_count": 4,
     "metadata": {},
     "output_type": "execute_result"
    }
   ],
   "source": [
    "arr[0:6]"
   ]
  },
  {
   "cell_type": "code",
   "execution_count": 5,
   "id": "b3d4d83b",
   "metadata": {},
   "outputs": [],
   "source": [
    "arr[0:6]=100"
   ]
  },
  {
   "cell_type": "code",
   "execution_count": 6,
   "id": "17f49e18",
   "metadata": {},
   "outputs": [
    {
     "data": {
      "text/plain": [
       "array([100, 100, 100, 100, 100, 100,   6,   7,   8,   9,  10])"
      ]
     },
     "execution_count": 6,
     "metadata": {},
     "output_type": "execute_result"
    }
   ],
   "source": [
    "arr"
   ]
  },
  {
   "cell_type": "code",
   "execution_count": null,
   "id": "b77949c7",
   "metadata": {},
   "outputs": [],
   "source": []
  },
  {
   "cell_type": "code",
   "execution_count": 11,
   "id": "45c0f3f0",
   "metadata": {},
   "outputs": [],
   "source": [
    "arr1=np.arange(50).reshape(5,10)"
   ]
  },
  {
   "cell_type": "code",
   "execution_count": 12,
   "id": "c3559bab",
   "metadata": {},
   "outputs": [
    {
     "data": {
      "text/plain": [
       "array([[ 0,  1,  2,  3,  4,  5,  6,  7,  8,  9],\n",
       "       [10, 11, 12, 13, 14, 15, 16, 17, 18, 19],\n",
       "       [20, 21, 22, 23, 24, 25, 26, 27, 28, 29],\n",
       "       [30, 31, 32, 33, 34, 35, 36, 37, 38, 39],\n",
       "       [40, 41, 42, 43, 44, 45, 46, 47, 48, 49]])"
      ]
     },
     "execution_count": 12,
     "metadata": {},
     "output_type": "execute_result"
    }
   ],
   "source": [
    "arr1"
   ]
  },
  {
   "cell_type": "code",
   "execution_count": 13,
   "id": "e9aab662",
   "metadata": {},
   "outputs": [
    {
     "data": {
      "text/plain": [
       "array([[ 5,  6,  7,  8,  9],\n",
       "       [15, 16, 17, 18, 19],\n",
       "       [25, 26, 27, 28, 29],\n",
       "       [35, 36, 37, 38, 39],\n",
       "       [45, 46, 47, 48, 49]])"
      ]
     },
     "execution_count": 13,
     "metadata": {},
     "output_type": "execute_result"
    }
   ],
   "source": [
    "arr1[:,5:]"
   ]
  },
  {
   "cell_type": "code",
   "execution_count": 14,
   "id": "b95445c8",
   "metadata": {},
   "outputs": [
    {
     "data": {
      "text/plain": [
       "array([[13, 14],\n",
       "       [23, 24]])"
      ]
     },
     "execution_count": 14,
     "metadata": {},
     "output_type": "execute_result"
    }
   ],
   "source": [
    "arr1[1:3,3:5]"
   ]
  },
  {
   "cell_type": "code",
   "execution_count": 15,
   "id": "e82344d4",
   "metadata": {},
   "outputs": [],
   "source": [
    "#Conditional Selection"
   ]
  },
  {
   "cell_type": "code",
   "execution_count": 16,
   "id": "dcf1a4b7",
   "metadata": {},
   "outputs": [],
   "source": [
    "arr2=np.arange(20)"
   ]
  },
  {
   "cell_type": "code",
   "execution_count": 18,
   "id": "9b2ed581",
   "metadata": {},
   "outputs": [
    {
     "data": {
      "text/plain": [
       "array([ 0,  1,  2,  3,  4,  5,  6,  7,  8,  9, 10, 11, 12, 13, 14, 15, 16,\n",
       "       17, 18, 19])"
      ]
     },
     "execution_count": 18,
     "metadata": {},
     "output_type": "execute_result"
    }
   ],
   "source": [
    "arr2"
   ]
  },
  {
   "cell_type": "code",
   "execution_count": 19,
   "id": "03b1b015",
   "metadata": {},
   "outputs": [
    {
     "data": {
      "text/plain": [
       "array([ 3,  4,  5,  6,  7,  8,  9, 10, 11, 12, 13, 14, 15, 16, 17, 18, 19])"
      ]
     },
     "execution_count": 19,
     "metadata": {},
     "output_type": "execute_result"
    }
   ],
   "source": [
    "arr2[arr2>2]"
   ]
  },
  {
   "cell_type": "code",
   "execution_count": 20,
   "id": "a46b5a30",
   "metadata": {},
   "outputs": [],
   "source": [
    "arr3=np.random.randint(1,100,50)"
   ]
  },
  {
   "cell_type": "code",
   "execution_count": 21,
   "id": "68f9f0e1",
   "metadata": {},
   "outputs": [
    {
     "data": {
      "text/plain": [
       "array([77, 27, 52, 94, 90, 16, 10, 66, 38, 54, 92, 75, 79, 89, 37, 86, 27,\n",
       "        2, 55, 90, 45,  2, 28, 10, 66, 13, 32, 52, 57, 14, 24, 79, 70, 81,\n",
       "       85, 70, 50,  3, 40, 58, 67, 22, 12,  4, 23, 77, 91, 67, 27, 38])"
      ]
     },
     "execution_count": 21,
     "metadata": {},
     "output_type": "execute_result"
    }
   ],
   "source": [
    "arr3"
   ]
  },
  {
   "cell_type": "code",
   "execution_count": 22,
   "id": "6b400883",
   "metadata": {},
   "outputs": [
    {
     "data": {
      "text/plain": [
       "array([77, 52, 94, 90, 66, 54, 92, 75, 79, 89, 86, 55, 90, 66, 52, 57, 79,\n",
       "       70, 81, 85, 70, 58, 67, 77, 91, 67])"
      ]
     },
     "execution_count": 22,
     "metadata": {},
     "output_type": "execute_result"
    }
   ],
   "source": [
    "arr3[arr3>50]"
   ]
  },
  {
   "cell_type": "code",
   "execution_count": null,
   "id": "3f639f0e",
   "metadata": {},
   "outputs": [],
   "source": []
  }
 ],
 "metadata": {
  "kernelspec": {
   "display_name": "Python 3 (ipykernel)",
   "language": "python",
   "name": "python3"
  },
  "language_info": {
   "codemirror_mode": {
    "name": "ipython",
    "version": 3
   },
   "file_extension": ".py",
   "mimetype": "text/x-python",
   "name": "python",
   "nbconvert_exporter": "python",
   "pygments_lexer": "ipython3",
   "version": "3.9.7"
  }
 },
 "nbformat": 4,
 "nbformat_minor": 5
}
